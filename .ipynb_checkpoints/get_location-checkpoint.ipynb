{
 "cells": [
  {
   "cell_type": "code",
   "execution_count": null,
   "metadata": {},
   "outputs": [
    {
     "ename": "",
     "evalue": "",
     "output_type": "error",
     "traceback": [
      "\u001b[1;31mRunning cells with '.venv (Python 3.10.6)' requires the ipykernel package.\n",
      "\u001b[1;31mRun the following command to install 'ipykernel' into the Python environment. \n",
      "\u001b[1;31mCommand: '/Users/yihuai/Documents/yihuai/uchi/autumn2/DV/Housing-School/.venv/bin/python -m pip install ipykernel -U --force-reinstall'"
     ]
    }
   ],
   "source": [
    "from geopy.geocoders import Nominatim\n",
    "import pandas as pd"
   ]
  },
  {
   "cell_type": "code",
   "execution_count": null,
   "metadata": {},
   "outputs": [],
   "source": [
    "\n",
    "geolocator = Nominatim(user_agent=\"geoapiExercises\")\n",
    "\n",
    "schools_df = pd.read_csv(\"CPS_High_School_SY2223.csv\", usecols=['SCHOOL_ID', 'SCHOOL_ADD'])\n",
    "geocoded = []\n",
    "schools_df.rename(columns={\"SCHOOL_ID\": \"school_id\", \"SCHOOL_ADD\": \"address\"},)\n",
    "\n",
    "# Geocode each address\n",
    "for _, row in schools_df.iterrows():\n",
    "    address = row['address']\n",
    "    school_id = row['school_id']\n",
    "    location = geolocator.geocode(address)\n",
    "    if location:\n",
    "        geocoded.append((school_id, address, location.latitude, location.longitude))\n",
    "    else:\n",
    "        geocoded.append((school_id, address, None, None))\n",
    "\n",
    "\n",
    "# Create a DataFrame with geocoded data\n",
    "geocoded_df = pd.DataFrame(geocoded, columns=['school_id', 'address', 'latitude', 'longitude'])\n",
    "geocoded_df"
   ]
  }
 ],
 "metadata": {
  "kernelspec": {
   "display_name": ".venv",
   "language": "python",
   "name": "python3"
  },
  "language_info": {
   "name": "python",
   "version": "3.10.6"
  }
 },
 "nbformat": 4,
 "nbformat_minor": 2
}
