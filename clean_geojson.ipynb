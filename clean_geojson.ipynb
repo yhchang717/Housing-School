{
 "cells": [
  {
   "cell_type": "markdown",
   "metadata": {},
   "source": [
    "## Data Cleaning\n",
    "### 1. Clean housing data, school grduation rate data, and demographic data "
   ]
  },
  {
   "cell_type": "code",
   "execution_count": 2,
   "metadata": {},
   "outputs": [],
   "source": [
    "import pandas as pd\n",
    "import geopandas as gpd\n",
    "from shapely import wkt\n",
    "from pathlib import Path"
   ]
  },
  {
   "cell_type": "code",
   "execution_count": 3,
   "metadata": {},
   "outputs": [
    {
     "name": "stderr",
     "output_type": "stream",
     "text": [
      "/var/folders/hm/_pzcf0b141vbjfjkskxh1x9h0000gn/T/ipykernel_78974/116435761.py:9: SettingWithCopyWarning: \n",
      "A value is trying to be set on a copy of a slice from a DataFrame.\n",
      "Try using .loc[row_indexer,col_indexer] = value instead\n",
      "\n",
      "See the caveats in the documentation: https://pandas.pydata.org/pandas-docs/stable/user_guide/indexing.html#returning-a-view-versus-a-copy\n",
      "  df_il['region'] = df_il['region'].str.replace('Chicago, IL - ', '')\n",
      "/var/folders/hm/_pzcf0b141vbjfjkskxh1x9h0000gn/T/ipykernel_78974/116435761.py:10: SettingWithCopyWarning: \n",
      "A value is trying to be set on a copy of a slice from a DataFrame\n",
      "\n",
      "See the caveats in the documentation: https://pandas.pydata.org/pandas-docs/stable/user_guide/indexing.html#returning-a-view-versus-a-copy\n",
      "  df_il.rename(columns={'region': 'name'}, inplace=True)\n",
      "/var/folders/hm/_pzcf0b141vbjfjkskxh1x9h0000gn/T/ipykernel_78974/116435761.py:12: SettingWithCopyWarning: \n",
      "A value is trying to be set on a copy of a slice from a DataFrame.\n",
      "Try using .loc[row_indexer,col_indexer] = value instead\n",
      "\n",
      "See the caveats in the documentation: https://pandas.pydata.org/pandas-docs/stable/user_guide/indexing.html#returning-a-view-versus-a-copy\n",
      "  df_il['name'] = df_il['name'].str.replace('The Loop', 'Loop')\n",
      "/var/folders/hm/_pzcf0b141vbjfjkskxh1x9h0000gn/T/ipykernel_78974/116435761.py:13: SettingWithCopyWarning: \n",
      "A value is trying to be set on a copy of a slice from a DataFrame.\n",
      "Try using .loc[row_indexer,col_indexer] = value instead\n",
      "\n",
      "See the caveats in the documentation: https://pandas.pydata.org/pandas-docs/stable/user_guide/indexing.html#returning-a-view-versus-a-copy\n",
      "  df_il['name'] = df_il['name'].str.title()\n",
      "/var/folders/hm/_pzcf0b141vbjfjkskxh1x9h0000gn/T/ipykernel_78974/116435761.py:14: SettingWithCopyWarning: \n",
      "A value is trying to be set on a copy of a slice from a DataFrame.\n",
      "Try using .loc[row_indexer,col_indexer] = value instead\n",
      "\n",
      "See the caveats in the documentation: https://pandas.pydata.org/pandas-docs/stable/user_guide/indexing.html#returning-a-view-versus-a-copy\n",
      "  df_il['name'] = df_il['name'].str.replace('East Riverdale', 'Riverdale')\n",
      "/var/folders/hm/_pzcf0b141vbjfjkskxh1x9h0000gn/T/ipykernel_78974/116435761.py:15: SettingWithCopyWarning: \n",
      "A value is trying to be set on a copy of a slice from a DataFrame.\n",
      "Try using .loc[row_indexer,col_indexer] = value instead\n",
      "\n",
      "See the caveats in the documentation: https://pandas.pydata.org/pandas-docs/stable/user_guide/indexing.html#returning-a-view-versus-a-copy\n",
      "  df_il['name'] = df_il['name'].str.replace('West Rogers Park', 'Rogers Park')\n",
      "/var/folders/hm/_pzcf0b141vbjfjkskxh1x9h0000gn/T/ipykernel_78974/116435761.py:16: SettingWithCopyWarning: \n",
      "A value is trying to be set on a copy of a slice from a DataFrame.\n",
      "Try using .loc[row_indexer,col_indexer] = value instead\n",
      "\n",
      "See the caveats in the documentation: https://pandas.pydata.org/pandas-docs/stable/user_guide/indexing.html#returning-a-view-versus-a-copy\n",
      "  df_il['name'] = df_il['name'].str.replace('Belmont Gardens', 'Belmont Cragin')\n",
      "/var/folders/hm/_pzcf0b141vbjfjkskxh1x9h0000gn/T/ipykernel_78974/116435761.py:19: SettingWithCopyWarning: \n",
      "A value is trying to be set on a copy of a slice from a DataFrame.\n",
      "Try using .loc[row_indexer,col_indexer] = value instead\n",
      "\n",
      "See the caveats in the documentation: https://pandas.pydata.org/pandas-docs/stable/user_guide/indexing.html#returning-a-view-versus-a-copy\n",
      "  df_il['period_end'] = pd.to_datetime(df_il['period_end'], format='%Y-%m-%d')\n",
      "/var/folders/hm/_pzcf0b141vbjfjkskxh1x9h0000gn/T/ipykernel_78974/116435761.py:20: SettingWithCopyWarning: \n",
      "A value is trying to be set on a copy of a slice from a DataFrame.\n",
      "Try using .loc[row_indexer,col_indexer] = value instead\n",
      "\n",
      "See the caveats in the documentation: https://pandas.pydata.org/pandas-docs/stable/user_guide/indexing.html#returning-a-view-versus-a-copy\n",
      "  df_il['year'] = df_il['period_end'].dt.year\n",
      "/var/folders/hm/_pzcf0b141vbjfjkskxh1x9h0000gn/T/ipykernel_78974/116435761.py:21: SettingWithCopyWarning: \n",
      "A value is trying to be set on a copy of a slice from a DataFrame.\n",
      "Try using .loc[row_indexer,col_indexer] = value instead\n",
      "\n",
      "See the caveats in the documentation: https://pandas.pydata.org/pandas-docs/stable/user_guide/indexing.html#returning-a-view-versus-a-copy\n",
      "  df_il['month'] = df_il['period_end'].dt.month\n"
     ]
    }
   ],
   "source": [
    "# Clean housing data\n",
    "# Read data\n",
    "df = pd.read_csv(\"raw_data/neighborhood_market_tracker.tsv000\" ,sep='\\t', usecols=['period_end', 'region',\n",
    "       'city', 'state', 'state_code', 'median_sale_price', 'property_type'])\n",
    "# Filter data\n",
    "df_il = df[(df[\"state_code\"] == \"IL\") & (df[\"city\"] == \"Chicago\") & (df[\"property_type\"] == 'All Residential')]\n",
    "\n",
    "# Get only community area names\n",
    "df_il['region'] = df_il['region'].str.replace('Chicago, IL - ', '')\n",
    "df_il.rename(columns={'region': 'name'}, inplace=True)\n",
    "\n",
    "df_il['name'] = df_il['name'].str.replace('The Loop', 'Loop')\n",
    "df_il['name'] = df_il['name'].str.title()\n",
    "df_il['name'] = df_il['name'].str.replace('East Riverdale', 'Riverdale')\n",
    "df_il['name'] = df_il['name'].str.replace('West Rogers Park', 'Rogers Park')\n",
    "df_il['name'] = df_il['name'].str.replace('Belmont Gardens', 'Belmont Cragin')\n",
    "\n",
    "# Extract year and month\n",
    "df_il['period_end'] = pd.to_datetime(df_il['period_end'], format='%Y-%m-%d')\n",
    "df_il['year'] = df_il['period_end'].dt.year\n",
    "df_il['month'] = df_il['period_end'].dt.month\n",
    "\n",
    "# Keep variables needed\n",
    "df_il = df_il[['year', 'month', 'name', 'median_sale_price']]\n",
    "\n",
    "# Convert to yearly data\n",
    "df_il.sort_values(by=['name','year','month'], ascending=True)\n",
    "df_yearly = df_il.groupby(['year', 'name'], as_index=False)['median_sale_price'].median()"
   ]
  },
  {
   "cell_type": "code",
   "execution_count": null,
   "metadata": {},
   "outputs": [],
   "source": [
    "df_yearly.to_csv('housing_price.csv', index=False)"
   ]
  },
  {
   "cell_type": "code",
   "execution_count": null,
   "metadata": {},
   "outputs": [],
   "source": [
    "# Save the data for 2022\n",
    "df_2022 = df_yearly[(df_yearly[\"year\"] == 2022)]\n",
    "df_2022.to_csv('cleaned_data/housing_price_2022.csv', index=False)"
   ]
  },
  {
   "cell_type": "code",
   "execution_count": null,
   "metadata": {},
   "outputs": [],
   "source": [
    "# Clean population data\n",
    "df_pop = pd.read_csv(\"raw_data/population.csv\")\n",
    "df_pop['name'] = df_pop['name'].str.title()\n",
    "df_pop.to_csv('cleaned_data/population_lower.csv', index=False)"
   ]
  },
  {
   "cell_type": "code",
   "execution_count": 12,
   "metadata": {},
   "outputs": [
    {
     "data": {
      "text/html": [
       "<div>\n",
       "<style scoped>\n",
       "    .dataframe tbody tr th:only-of-type {\n",
       "        vertical-align: middle;\n",
       "    }\n",
       "\n",
       "    .dataframe tbody tr th {\n",
       "        vertical-align: top;\n",
       "    }\n",
       "\n",
       "    .dataframe thead th {\n",
       "        text-align: right;\n",
       "    }\n",
       "</style>\n",
       "<table border=\"1\" class=\"dataframe\">\n",
       "  <thead>\n",
       "    <tr style=\"text-align: right;\">\n",
       "      <th></th>\n",
       "      <th>School ID</th>\n",
       "      <th># Tested</th>\n",
       "      <th>National School Growth Percentile</th>\n",
       "      <th>Subject</th>\n",
       "      <th>name</th>\n",
       "    </tr>\n",
       "  </thead>\n",
       "  <tbody>\n",
       "    <tr>\n",
       "      <th>0</th>\n",
       "      <td>400009</td>\n",
       "      <td>240.0</td>\n",
       "      <td>56.0</td>\n",
       "      <td>READING</td>\n",
       "      <td>Garfield Ridge</td>\n",
       "    </tr>\n",
       "    <tr>\n",
       "      <th>1</th>\n",
       "      <td>400011</td>\n",
       "      <td>256.0</td>\n",
       "      <td>64.0</td>\n",
       "      <td>READING</td>\n",
       "      <td>East Garfield Park</td>\n",
       "    </tr>\n",
       "    <tr>\n",
       "      <th>3</th>\n",
       "      <td>400017</td>\n",
       "      <td>225.0</td>\n",
       "      <td>50.0</td>\n",
       "      <td>READING</td>\n",
       "      <td>Albany Park</td>\n",
       "    </tr>\n",
       "    <tr>\n",
       "      <th>6</th>\n",
       "      <td>400021</td>\n",
       "      <td>332.0</td>\n",
       "      <td>50.0</td>\n",
       "      <td>READING</td>\n",
       "      <td>Austin</td>\n",
       "    </tr>\n",
       "    <tr>\n",
       "      <th>7</th>\n",
       "      <td>400023</td>\n",
       "      <td>322.0</td>\n",
       "      <td>66.0</td>\n",
       "      <td>READING</td>\n",
       "      <td>Avalon Park</td>\n",
       "    </tr>\n",
       "    <tr>\n",
       "      <th>...</th>\n",
       "      <td>...</td>\n",
       "      <td>...</td>\n",
       "      <td>...</td>\n",
       "      <td>...</td>\n",
       "      <td>...</td>\n",
       "    </tr>\n",
       "    <tr>\n",
       "      <th>507</th>\n",
       "      <td>610544</td>\n",
       "      <td>529.0</td>\n",
       "      <td>83.0</td>\n",
       "      <td>READING</td>\n",
       "      <td>West Lawn</td>\n",
       "    </tr>\n",
       "    <tr>\n",
       "      <th>508</th>\n",
       "      <td>610548</td>\n",
       "      <td>272.0</td>\n",
       "      <td>68.0</td>\n",
       "      <td>READING</td>\n",
       "      <td>Near West Side</td>\n",
       "    </tr>\n",
       "    <tr>\n",
       "      <th>509</th>\n",
       "      <td>610559</td>\n",
       "      <td>476.0</td>\n",
       "      <td>83.0</td>\n",
       "      <td>READING</td>\n",
       "      <td>Brighton Park</td>\n",
       "    </tr>\n",
       "    <tr>\n",
       "      <th>510</th>\n",
       "      <td>610586</td>\n",
       "      <td>281.0</td>\n",
       "      <td>90.0</td>\n",
       "      <td>READING</td>\n",
       "      <td>East Side</td>\n",
       "    </tr>\n",
       "    <tr>\n",
       "      <th>511</th>\n",
       "      <td>610588</td>\n",
       "      <td>923.0</td>\n",
       "      <td>79.0</td>\n",
       "      <td>READING</td>\n",
       "      <td>West Lawn</td>\n",
       "    </tr>\n",
       "  </tbody>\n",
       "</table>\n",
       "<p>487 rows × 5 columns</p>\n",
       "</div>"
      ],
      "text/plain": [
       "     School ID  # Tested  National School Growth Percentile  Subject  \\\n",
       "0       400009     240.0                               56.0  READING   \n",
       "1       400011     256.0                               64.0  READING   \n",
       "3       400017     225.0                               50.0  READING   \n",
       "6       400021     332.0                               50.0  READING   \n",
       "7       400023     322.0                               66.0  READING   \n",
       "..         ...       ...                                ...      ...   \n",
       "507     610544     529.0                               83.0  READING   \n",
       "508     610548     272.0                               68.0  READING   \n",
       "509     610559     476.0                               83.0  READING   \n",
       "510     610586     281.0                               90.0  READING   \n",
       "511     610588     923.0                               79.0  READING   \n",
       "\n",
       "                   name  \n",
       "0        Garfield Ridge  \n",
       "1    East Garfield Park  \n",
       "3           Albany Park  \n",
       "6                Austin  \n",
       "7           Avalon Park  \n",
       "..                  ...  \n",
       "507           West Lawn  \n",
       "508      Near West Side  \n",
       "509       Brighton Park  \n",
       "510           East Side  \n",
       "511           West Lawn  \n",
       "\n",
       "[487 rows x 5 columns]"
      ]
     },
     "execution_count": 12,
     "metadata": {},
     "output_type": "execute_result"
    }
   ],
   "source": [
    "# Clean school data\n",
    "df_score = pd.read_csv('raw_data/nwea.csv')\n",
    "df_score = df_score[(df_score[\"Subject\"] == \"READING\")]\n",
    "df_school = pd.read_csv('raw_data/school_community_area.csv')\n",
    "df_school.rename(columns={'Community Area': 'name'}, inplace=True)\n",
    "df_school['name'] = df_school['name'].str.title()\n",
    "\n",
    "df_merge = df_score.merge(df_school, how='left', on='School ID')\n",
    "df_merge.dropna(inplace=True)\n",
    "df_merge"
   ]
  },
  {
   "cell_type": "code",
   "execution_count": null,
   "metadata": {},
   "outputs": [
    {
     "name": "stderr",
     "output_type": "stream",
     "text": [
      "/var/folders/hm/_pzcf0b141vbjfjkskxh1x9h0000gn/T/ipykernel_69610/2511381834.py:6: DeprecationWarning: DataFrameGroupBy.apply operated on the grouping columns. This behavior is deprecated, and in a future version of pandas the grouping columns will be excluded from the operation. Either pass `include_groups=False` to exclude the groupings or explicitly select the grouping columns after groupby to silence this warning.\n",
      "  df_weighted = df_merge.groupby('name').apply(weighted_average,\n"
     ]
    }
   ],
   "source": [
    "def weighted_average(df, value, weight):\n",
    "    val = df[value]\n",
    "    wt = df[weight]\n",
    "    return (val * wt).sum() / wt.sum()\n",
    "\n",
    "df_weighted = df_merge.groupby('name').apply(weighted_average, \n",
    "                                     'National School Growth Percentile', '# Tested')\n",
    "df_weighted = df_weighted.reset_index(name='percentile')\n",
    "df_weighted.to_csv('cleaned_data/growth_percentile.csv', index=False )"
   ]
  },
  {
   "cell_type": "markdown",
   "metadata": {},
   "source": [
    "### 2. Merge all the data and turn it to geojson file "
   ]
  },
  {
   "cell_type": "code",
   "execution_count": 3,
   "metadata": {},
   "outputs": [],
   "source": [
    "# Read data\n",
    "df_house = pd.read_csv(\"cleaned_data/housing_price_2022.csv\", usecols=['name', 'median_sale_price'])\n",
    "df_percentile = pd.read_csv(\"cleaned_data/growth_percentile.csv\")\n",
    "df_pop = pd.read_csv(\"cleaned_data/population_lower.csv\", usecols=['name', 'population'])"
   ]
  },
  {
   "cell_type": "code",
   "execution_count": 4,
   "metadata": {},
   "outputs": [
    {
     "data": {
      "text/plain": [
       "count    76.000000\n",
       "mean     65.853410\n",
       "std      13.283384\n",
       "min      20.661355\n",
       "25%      57.632728\n",
       "50%      67.216178\n",
       "75%      75.409390\n",
       "max      99.000000\n",
       "Name: percentile, dtype: float64"
      ]
     },
     "execution_count": 4,
     "metadata": {},
     "output_type": "execute_result"
    }
   ],
   "source": [
    "df_percentile['percentile'].describe()"
   ]
  },
  {
   "cell_type": "code",
   "execution_count": 5,
   "metadata": {},
   "outputs": [
    {
     "data": {
      "text/plain": [
       "count       262.000000\n",
       "mean     342206.013359\n",
       "std      141714.763283\n",
       "min       51500.000000\n",
       "25%      240187.500000\n",
       "50%      321875.000000\n",
       "75%      419812.500000\n",
       "max      801250.000000\n",
       "Name: median_sale_price, dtype: float64"
      ]
     },
     "execution_count": 5,
     "metadata": {},
     "output_type": "execute_result"
    }
   ],
   "source": [
    "df_house['median_sale_price'].describe()"
   ]
  },
  {
   "cell_type": "code",
   "execution_count": null,
   "metadata": {},
   "outputs": [
    {
     "name": "stderr",
     "output_type": "stream",
     "text": [
      "/Users/yihuai/Documents/yihuai/uchi/autumn2/DV/Housing-School/.venv/lib/python3.10/site-packages/pyogrio/geopandas.py:662: UserWarning: 'crs' was not provided.  The output dataset will not have projection information defined and may not be usable in other systems.\n",
      "  write(\n"
     ]
    }
   ],
   "source": [
    "# Load the CSV\n",
    "df = pd.read_csv(\"raw_data/CommAreas_20241126.csv\")\n",
    "\n",
    "# Convert the WKT geometries to shapely objects\n",
    "df['geometry'] = df['the_geom'].apply(wkt.loads)\n",
    "\n",
    "# Convert to a GeoDataFrame\n",
    "gdf = gpd.GeoDataFrame(df, geometry='geometry')\n",
    "\n",
    "# Select only necessary columns for GeoJSON output\n",
    "gdf = gdf[['COMMUNITY', 'geometry']]\n",
    "\n",
    "# Rename the columns to fit GeoJSON conventions\n",
    "gdf.rename(columns={'COMMUNITY': 'name'}, inplace=True)\n",
    "\n",
    "# Change the 'name' column to title case\n",
    "gdf['name'] = gdf['name'].str.title()\n",
    "\n",
    "# Merge information\n",
    "gdf = gdf.merge(df_house, on=\"name\", how=\"left\")\n",
    "gdf = gdf.merge(df_percentile, on=\"name\", how=\"left\")\n",
    "gdf = gdf.merge(df_pop, on=\"name\", how=\"left\")\n",
    "\n",
    "# Save as GeoJSON\n",
    "gdf.to_file(\"www/community_areas.geojson\", driver=\"GeoJSON\")"
   ]
  },
  {
   "cell_type": "code",
   "execution_count": null,
   "metadata": {},
   "outputs": [],
   "source": []
  }
 ],
 "metadata": {
  "kernelspec": {
   "display_name": ".venv",
   "language": "python",
   "name": "python3"
  },
  "language_info": {
   "codemirror_mode": {
    "name": "ipython",
    "version": 3
   },
   "file_extension": ".py",
   "mimetype": "text/x-python",
   "name": "python",
   "nbconvert_exporter": "python",
   "pygments_lexer": "ipython3",
   "version": "3.10.6"
  }
 },
 "nbformat": 4,
 "nbformat_minor": 2
}
