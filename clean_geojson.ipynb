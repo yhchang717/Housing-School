{
 "cells": [
  {
   "cell_type": "markdown",
   "metadata": {},
   "source": [
    "## Data Cleaning\n",
    "### 1. Clean housing data, school grduation rate data, and demographic data "
   ]
  },
  {
   "cell_type": "code",
   "execution_count": null,
   "metadata": {},
   "outputs": [],
   "source": [
    "import pandas as pd\n",
    "import geopandas as gpd\n",
    "from shapely import wkt\n",
    "from pathlib import Path"
   ]
  },
  {
   "cell_type": "code",
   "execution_count": null,
   "metadata": {},
   "outputs": [],
   "source": [
    "# Clean housing data\n",
    "# Read data\n",
    "df = pd.read_csv(\"raw_data/neighborhood_market_tracker.tsv000\" ,sep='\\t', usecols=['period_end', 'region',\n",
    "       'city', 'state', 'state_code', 'median_sale_price', 'property_type'])\n",
    "# Filter data\n",
    "df_il = df[(df[\"state_code\"] == \"IL\") & (df[\"city\"] == \"Chicago\") & (df[\"property_type\"] == 'All Residential')]\n",
    "\n",
    "# Get only community area names\n",
    "df_il['region'] = df_il['region'].str.replace('Chicago, IL - ', '')\n",
    "df_il.rename(columns={'region': 'name'}, inplace=True)\n",
    "\n",
    "df_il['name'] = df_il['name'].str.replace('The Loop', 'Loop')\n",
    "df_il['name'] = df_il['name'].str.title()\n",
    "df_il['name'] = df_il['name'].str.replace('East Riverdale', 'Riverdale')\n",
    "df_il['name'] = df_il['name'].str.replace('West Rogers Park', 'Rogers Park')\n",
    "df_il['name'] = df_il['name'].str.replace('Belmont Gardens', 'Belmont Cragin')\n",
    "\n",
    "# Extract year and month\n",
    "df_il['period_end'] = pd.to_datetime(df_il['period_end'], format='%Y-%m-%d')\n",
    "df_il['year'] = df_il['period_end'].dt.year\n",
    "df_il['month'] = df_il['period_end'].dt.month\n",
    "\n",
    "# Keep variables needed\n",
    "df_il = df_il[['year', 'month', 'name', 'median_sale_price']]\n",
    "\n",
    "# Convert to yearly data\n",
    "df_il.sort_values(by=['name','year','month'], ascending=True)\n",
    "df_yearly = df_il.groupby(['year', 'name'], as_index=False)['median_sale_price'].median()\n",
    "\n",
    "# Save the data for 2022\n",
    "df_2022 = df_yearly[(df_yearly[\"year\"] == 2022)]\n",
    "df_2022.to_csv('cleaned_data/housing_price_2022.csv', index=False)"
   ]
  },
  {
   "cell_type": "code",
   "execution_count": null,
   "metadata": {},
   "outputs": [],
   "source": [
    "# Clean population data\n",
    "df_pop = pd.read_csv(\"raw_data/population.csv\")\n",
    "df_pop['name'] = df_pop['name'].str.title()\n",
    "df_pop.to_csv('cleaned_data/population_lower.csv', index=False)"
   ]
  },
  {
   "cell_type": "code",
   "execution_count": null,
   "metadata": {},
   "outputs": [],
   "source": [
    "# Clean School data\n",
    "# Read files\n",
    "df_school = pd.read_csv(\"raw_data/school_community_area.csv\")\n",
    "df_grad = pd.read_csv(\"raw_data/graduation_raw.csv\")\n",
    "\n",
    "# Clean for merging\n",
    "df_school.rename(columns={'Community Area': 'name'}, inplace=True)\n",
    "df_school['name'] = df_school['name'].str.title()\n",
    "\n",
    "# Clean, change the data type, and calculate graduation rate\n",
    "df_grad['graduates'] = df_grad['graduates'].str.strip()\n",
    "df_grad['graduates'] = pd.to_numeric(df_grad['graduates'], errors='coerce') \n",
    "df_grad['number of students'] = df_grad['number of students'].str.strip()\n",
    "df_grad['number of students'] = pd.to_numeric(df_grad['number of students'], errors='coerce')\n",
    "df_grad.dropna(inplace=True)\n",
    "\n",
    "df_merge = df_grad.merge(df_school, how='left', on='School ID')\n",
    "df_merge.isnull().sum()"
   ]
  },
  {
   "cell_type": "code",
   "execution_count": null,
   "metadata": {},
   "outputs": [],
   "source": [
    "missing_name_rows = df_merge[df_merge['name'].isnull()]\n",
    "print(missing_name_rows) # Closed in 2023\n",
    "# Drop missing\n",
    "df_merge.dropna(inplace=True)\n",
    "\n",
    "# Calculate graduation rate\n",
    "df_group = df_merge.groupby(['name'], as_index=False)[['graduates', 'number of students']].sum()\n",
    "df_group['graduation_rate'] = df_group['graduates'] / df_group['number of students'] * 100\n",
    "df_group = df_group[['name', 'graduation_rate']]\n",
    "df_group.to_csv('cleaned_data/cleaned_graduation.csv', index=False)"
   ]
  },
  {
   "cell_type": "markdown",
   "metadata": {},
   "source": [
    "### 2. Merge all the data and turn it to geojson file "
   ]
  },
  {
   "cell_type": "code",
   "execution_count": null,
   "metadata": {},
   "outputs": [],
   "source": [
    "# Read data\n",
    "df_house = pd.read_csv(\"cleaned_data/housing_price_2022.csv\", usecols=['name', 'median_sale_price'])\n",
    "df_graduation = pd.read_csv(\"cleaned_data/cleaned_graduation.csv\")\n",
    "df_pop = pd.read_csv(\"cleaned_data/population_lower.csv\", usecols=['name', 'population'])"
   ]
  },
  {
   "cell_type": "code",
   "execution_count": null,
   "metadata": {},
   "outputs": [],
   "source": [
    "df_graduation['graduation_rate'].describe()"
   ]
  },
  {
   "cell_type": "code",
   "execution_count": null,
   "metadata": {},
   "outputs": [],
   "source": [
    "df_house['median_sale_price'].describe()"
   ]
  },
  {
   "cell_type": "code",
   "execution_count": null,
   "metadata": {},
   "outputs": [],
   "source": [
    "# Load the CSV\n",
    "df = pd.read_csv(\"raw_data/CommAreas_20241126.csv\")\n",
    "\n",
    "# Convert the WKT geometries to shapely objects\n",
    "df['geometry'] = df['the_geom'].apply(wkt.loads)\n",
    "\n",
    "# Convert to a GeoDataFrame\n",
    "gdf = gpd.GeoDataFrame(df, geometry='geometry')\n",
    "\n",
    "# Select only necessary columns for GeoJSON output\n",
    "gdf = gdf[['COMMUNITY', 'geometry']]\n",
    "\n",
    "# Rename the columns to fit GeoJSON conventions\n",
    "gdf.rename(columns={'COMMUNITY': 'name'}, inplace=True)\n",
    "\n",
    "# Change the 'name' column to title case\n",
    "gdf['name'] = gdf['name'].str.title()\n",
    "\n",
    "# Merge information\n",
    "gdf = gdf.merge(df_house, on=\"name\", how=\"left\")\n",
    "gdf = gdf.merge(df_graduation, on=\"name\", how=\"left\")\n",
    "gdf = gdf.merge(df_pop, on=\"name\", how=\"left\")\n",
    "\n",
    "# Save as GeoJSON\n",
    "gdf.to_file(\"cleaned_data/community_areas.geojson\", driver=\"GeoJSON\")"
   ]
  },
  {
   "cell_type": "code",
   "execution_count": null,
   "metadata": {},
   "outputs": [],
   "source": []
  }
 ],
 "metadata": {
  "kernelspec": {
   "display_name": ".venv",
   "language": "python",
   "name": "python3"
  },
  "language_info": {
   "codemirror_mode": {
    "name": "ipython",
    "version": 3
   },
   "file_extension": ".py",
   "mimetype": "text/x-python",
   "name": "python",
   "nbconvert_exporter": "python",
   "pygments_lexer": "ipython3",
   "version": "3.10.6"
  }
 },
 "nbformat": 4,
 "nbformat_minor": 2
}
